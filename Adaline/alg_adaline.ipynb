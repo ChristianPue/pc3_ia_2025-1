{
 "cells": [
  {
   "cell_type": "markdown",
   "id": "f09cad25",
   "metadata": {},
   "source": [
    "## Algoritmo Adaline en Python 🐍"
   ]
  },
  {
   "cell_type": "code",
   "execution_count": null,
   "id": "afbe23d4",
   "metadata": {},
   "outputs": [],
   "source": [
    "def salida_y(arr_w, arr_x, umbral):\n",
    "  y = 0 # Inicializar la salida 'y'\n",
    "\n",
    "  for w, x in zip(arr_w, arr_x):\n",
    "    y += w * x # Sumar cada término w_i * x_i\n",
    "  \n",
    "  y += umbral # Sumar el umbral (Es recomendable restar)\n",
    "\n",
    "  return y\n",
    "\n",
    "def porc_error(y, dx):\n",
    "  return dx - y # Restamos el 'y' (salida resultante) y 'dx' (salida esperada)\n",
    "\n",
    "def actualizar_pesos(arr_w, tasa, error, arr_x):\n",
    "  for i in range(len(arr_w)):\n",
    "    arr_w[i] += tasa * error * arr_x[i] # Actualizar peso\n",
    "  \n",
    "  return arr_w\n",
    "\n",
    "def alg_adaline(matr_x, arr_dx, arr_w, umbral, tasa, iter=1):\n",
    "  pesos_actuales = arr_w  # Iniciamos con los pesos de la 1era fila de la matriz de pesos\n",
    "\n",
    "  contador = 0 # Vamos a contar cuantas iteraciones va\n",
    "  while(iter != contador):\n",
    "    print(f'Iteración N°{contador + 1}:')\n",
    "\n",
    "    for i in range(len(arr_dx)):\n",
    "      # Calcular salida 'y'\n",
    "      y = salida_y(pesos_actuales, matr_x[i], umbral)\n",
    "\n",
    "      # Calcular el porcentaje de error\n",
    "      err = porc_error(y, arr_dx[i])\n",
    "\n",
    "      # Actualización de pesos\n",
    "      pesos_actuales = actualizar_pesos(pesos_actuales, tasa, err, matr_x[i])\n",
    "    \n",
    "    print(f'Error: {err}')\n",
    "    \n",
    "    contador += 1 # Aumentamos una unidad\n",
    "  \n",
    "  return pesos_actuales # Retornamos los pesos finales"
   ]
  },
  {
   "cell_type": "code",
   "execution_count": 43,
   "id": "5990a493",
   "metadata": {},
   "outputs": [
    {
     "name": "stdout",
     "output_type": "stream",
     "text": [
      "Iteración N°1:\n",
      "Error: 0.32905800000000074\n",
      "Iteración N°2:\n",
      "Error: 0.12414723227999946\n",
      "Iteración N°3:\n",
      "Error: 0.043241047490944595\n",
      "Iteración N°4:\n",
      "Error: 0.01196106033405897\n",
      "Iteración N°5:\n",
      "Error: 0.00041495753975606675\n",
      "Iteración N°6:\n",
      "Error: -0.003386614719556924\n",
      "Iteración N°7:\n",
      "Error: -0.0042328048940643015\n",
      "Iteración N°8:\n",
      "Error: -0.004020747776122491\n",
      "Iteración N°9:\n",
      "Error: -0.003489022557019439\n",
      "Iteración N°10:\n",
      "Error: -0.0029145482862560357\n",
      "Iteración N°11:\n",
      "Error: -0.0023922817086479142\n",
      "Pesos finales después de 11 iteraciones: [3.962385440815069, 2.01839016572427, 1.0208989906567143]\n"
     ]
    }
   ],
   "source": [
    "matr_x = [ # Entradas (cada fila es un conjunto de entradas)\n",
    "  [0, 0, 1],\n",
    "  [0, 1, 0],\n",
    "  [0, 1, 1],\n",
    "  [1, 0, 0],\n",
    "  [1, 0, 1],\n",
    "  [1, 1, 0],\n",
    "  [1, 1, 1]\n",
    "]\n",
    "arr_dx = [1, 2, 3, 4, 5, 6, 7] # Salidas esperadas (deseadas)\n",
    "\n",
    "arr_w = [3.4, 2.01, 1] # Pesos iniciales\n",
    "umbral = 0 # Umbral\n",
    "tasa = 0.1 # Tasa de aprendizaje\n",
    "iteraciones = 11 # Número de iteraciones de entrenamiento\n",
    "\n",
    "\n",
    "# Ejecutar algoritmo ADALINE\n",
    "pesos_finales = alg_adaline(matr_x, arr_dx, arr_w, umbral, tasa, iteraciones)\n",
    "print(f\"Pesos finales después de {iteraciones} iteraciones: {pesos_finales}\")"
   ]
  }
 ],
 "metadata": {
  "kernelspec": {
   "display_name": "Python 3",
   "language": "python",
   "name": "python3"
  },
  "language_info": {
   "codemirror_mode": {
    "name": "ipython",
    "version": 3
   },
   "file_extension": ".py",
   "mimetype": "text/x-python",
   "name": "python",
   "nbconvert_exporter": "python",
   "pygments_lexer": "ipython3",
   "version": "3.13.3"
  }
 },
 "nbformat": 4,
 "nbformat_minor": 5
}
